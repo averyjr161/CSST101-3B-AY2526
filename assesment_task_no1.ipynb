{
  "cells": [
    {
      "cell_type": "markdown",
      "metadata": {
        "id": "view-in-github",
        "colab_type": "text"
      },
      "source": [
        "<a href=\"https://colab.research.google.com/github/averyjr161/CSST101-3B-AY2526/blob/main/assesment_task_no1.ipynb\" target=\"_parent\"><img src=\"https://colab.research.google.com/assets/colab-badge.svg\" alt=\"Open In Colab\"/></a>"
      ]
    },
    {
      "cell_type": "markdown",
      "source": [
        "Imports"
      ],
      "metadata": {
        "id": "e8GfBEwwgZiv"
      }
    },
    {
      "cell_type": "code",
      "source": [
        "import csv\n",
        "from datetime import datetime"
      ],
      "metadata": {
        "id": "qEN61ItKfjgT"
      },
      "execution_count": 10,
      "outputs": []
    },
    {
      "cell_type": "markdown",
      "source": [
        "Logic Functions"
      ],
      "metadata": {
        "id": "wbIdbnLPgjl3"
      }
    },
    {
      "cell_type": "code",
      "source": [
        "def impl(p, q):\n",
        "  return (not p) or q\n",
        "def tf(b: bool) -> str:\n",
        "  return \"T\" if b else \"F\""
      ],
      "metadata": {
        "id": "QSl3_yVmf8P_"
      },
      "execution_count": 11,
      "outputs": []
    },
    {
      "cell_type": "markdown",
      "source": [
        "Logger"
      ],
      "metadata": {
        "id": "PyQttVH_gnRB"
      }
    },
    {
      "cell_type": "code",
      "source": [
        "def log_result(student_name, rule_name, result):\n",
        "  with open(\"logic_results.csv\", \"a\", newline=\"\", encoding=\"utf-8\") as file:\n",
        "    writer = csv.writer(file)\n",
        "    writer.writerow([datetime.now().strftime(\"%Y-%m-%d %H:%M:%S\"),\n",
        "    student_name, rule_name, result])"
      ],
      "metadata": {
        "id": "q3il6F4-f-cV"
      },
      "execution_count": 12,
      "outputs": []
    },
    {
      "cell_type": "markdown",
      "source": [
        "Rule 1: Attendance"
      ],
      "metadata": {
        "id": "AIyh-XOOgxOP"
      }
    },
    {
      "cell_type": "code",
      "source": [
        "def attendance_rule(student_name):\n",
        "  print(\"\\n--- Attendance Rule Checker ---\")\n",
        "  late = input(\"Is the student late? (T/F): \").strip().upper() == \"T\"\n",
        "  excuse = input(\"Did the student bring an excuse letter? (T/F): \").strip().upper() == \"T\"\n",
        "  result = impl(late, excuse)\n",
        "  outcome = \"Satisfied ✅\" if result else \"Violated ❌\"\n",
        "  print(f\"P = ({tf(late)}) (Late), Q = ({tf(excuse)}) (Excuse Letter)\")\n",
        "  print(\"Result:\", outcome)\n",
        "  log_result(student_name, \"Attendance Rule\", outcome)"
      ],
      "metadata": {
        "id": "9hEhqhLrgDH-"
      },
      "execution_count": 13,
      "outputs": []
    },
    {
      "cell_type": "markdown",
      "source": [
        "Rule 2: Grading"
      ],
      "metadata": {
        "id": "UfLJVHzIg2hS"
      }
    },
    {
      "cell_type": "code",
      "source": [
        "def grading_rule(student_name):\n",
        "  print(\"\\n--- Grading Rule Checker ---\")\n",
        "  try:\n",
        "    grade = float(input(\"Enter student grade: \"))\n",
        "  except ValueError:\n",
        "    print(\"Invalid grade input.\")\n",
        "    return\n",
        "  P = grade <= 75\n",
        "  Q = grade >= 75\n",
        "  result = impl(P, Q)\n",
        "  outcome = \"Satisfied ✅\" if result else \"Violated ❌\"\n",
        "  print(f\"P = ({tf(P)}) (grade ≥ 75), Q = ({tf(Q)}) (student passes)\")\n",
        "  print(\"Result:\", outcome)\n",
        "  log_result(student_name, \"Grading Rule\", outcome)"
      ],
      "metadata": {
        "id": "BFMkvyTMgGiV"
      },
      "execution_count": 14,
      "outputs": []
    },
    {
      "cell_type": "markdown",
      "source": [
        "Rule 3: Login System"
      ],
      "metadata": {
        "id": "bRrwzcwIg8Ds"
      }
    },
    {
      "cell_type": "code",
      "source": [
        "def login_rule(student_name):\n",
        "  print(\"\\n--- Login Rule Checker ---\")\n",
        "  correct_password = \"admin123\"\n",
        "  attempt = input(\"Enter password: \")\n",
        "  P = (attempt == correct_password)\n",
        "  Q = P\n",
        "  result = impl(P, Q)\n",
        "  outcome = \"Access granted ✅\" if result else \"Access denied ❌\"\n",
        "  print(f\"P = ({tf(P)}) (Password Correct), Q = ({tf(Q)}) (Access Granted)\")\n",
        "  print(\"Result:\", outcome)\n",
        "  log_result(student_name, \"Login Rule\", outcome)"
      ],
      "metadata": {
        "id": "155htcbjgO11"
      },
      "execution_count": 15,
      "outputs": []
    },
    {
      "cell_type": "markdown",
      "source": [
        "Rule 4: Bonus Points"
      ],
      "metadata": {
        "id": "IuKZBRaVg_fv"
      }
    },
    {
      "cell_type": "code",
      "source": [
        "\n",
        "def bonus_rule(student_name):\n",
        "  print(\"\\n--- Bonus Points Eligibility Checker ---\")\n",
        "  regular = input(\"Does the student have regular attendance? (T/F): \").strip().upper() == \"T\"\n",
        "  bonus = input(\"Is the student eligible for bonus points? (T/F): \").strip().upper() == \"T\"\n",
        "  result = impl(regular, bonus)\n",
        "  outcome = \"Satisfied ✅\" if result else \"Violated ❌\"\n",
        "  print(f\"P = ({tf(regular)}) (Regular Attendance), Q = ({tf(bonus)}) (Bonus Eligible)\")\n",
        "  print(\"Result:\", outcome)\n",
        "  log_result(student_name, \"Bonus Rule\", outcome)"
      ],
      "metadata": {
        "id": "yVDo8OGygRxE"
      },
      "execution_count": 16,
      "outputs": []
    },
    {
      "cell_type": "markdown",
      "source": [
        "Rule 5: Library Borrowing"
      ],
      "metadata": {
        "id": "CHbSCe4lhMYs"
      }
    },
    {
      "cell_type": "code",
      "source": [
        "def library_rule(student_name):\n",
        "  print(\"\\n--- Library Borrowing Rule Checker ---\")\n",
        "  borrowed = input(\"Has the student borrowed a book? (T/F): \").strip().upper() == \"T\"\n",
        "  returned = input(\"Has the student returned the book? (T/F): \").strip().upper() == \"T\"\n",
        "  result = impl(borrowed, returned)\n",
        "  outcome = \"Satisfied ✅\" if result else \"Violated ❌\"\n",
        "  print(f\"P = ({tf(borrowed)}) (Borrowed), Q = ({tf(returned)}) (Returned)\")\n",
        "  print(\"Result:\", outcome)\n",
        "  log_result(student_name, \"Library Rule\", outcome)"
      ],
      "metadata": {
        "id": "eADL84MSgT98"
      },
      "execution_count": 17,
      "outputs": []
    },
    {
      "cell_type": "markdown",
      "source": [
        "Main"
      ],
      "metadata": {
        "id": "vz-LfB7UhOZP"
      }
    },
    {
      "cell_type": "code",
      "source": [
        "def main():\n",
        "  print(\"=== University Logic Rules System ===\")\n",
        "  student_name = input(\"Enter student name: \").strip()\n",
        "  while True:\n",
        "    print(\"\\n================================\")\n",
        "    print(\" Main Menu\")\n",
        "    print(\"================================\")\n",
        "    print(\"1) Attendance Rule Checker\")\n",
        "    print(\"2) Grading Rule Checker\")\n",
        "    print(\"3) Login Rule Checker\")\n",
        "    print(\"4) Bonus Points Checker\")\n",
        "    print(\"5) Library Borrowing Rule Checker\")\n",
        "    print(\"6) Exit\")\n",
        "    choice = input(\"Choose an option (1-5): \").strip()\n",
        "    if choice == \"1\":\n",
        "      attendance_rule(student_name)\n",
        "    elif choice == \"2\":\n",
        "      grading_rule(student_name)\n",
        "    elif choice == \"3\":\n",
        "      login_rule(student_name)\n",
        "    elif choice == \"4\":\n",
        "      bonus_rule(student_name)\n",
        "    elif choice == \"5\":\n",
        "      library_rule(student_name)\n",
        "    elif choice == \"6\":\n",
        "      print(\"Exiting... Results saved to logic_results.csv\")\n",
        "      break\n",
        "    else:\n",
        "      print(\"Invalid choice. Try again. Please select 1-5.\")\n",
        "if __name__ == \"__main__\":\n",
        "  # Create CSV with headers if not exists\n",
        "  with open(\"logic_results.csv\", \"a\", newline=\"\", encoding=\"utf-8\") as file:\n",
        "    writer = csv.writer(file)\n",
        "    if file.tell() == 0: # only write header if file is empty\n",
        "      writer.writerow([\"Timestamp\", \"Student Name\", \"Rule\", \"Result\"])\n",
        "  # Run the program\n",
        "  main()"
      ],
      "metadata": {
        "colab": {
          "base_uri": "https://localhost:8080/"
        },
        "id": "B13rtvCbgV8w",
        "outputId": "20aa0c92-77a1-45f1-efa4-dc4b020b3bcd"
      },
      "execution_count": 18,
      "outputs": [
        {
          "output_type": "stream",
          "name": "stdout",
          "text": [
            "=== University Logic Rules System ===\n",
            "Enter student name: Avery Malimutin\n",
            "\n",
            "================================\n",
            " Main Menu\n",
            "================================\n",
            "1) Attendance Rule Checker\n",
            "2) Grading Rule Checker\n",
            "3) Login Rule Checker\n",
            "4) Bonus Points Checker\n",
            "5) Library Borrowing Rule Checker\n",
            "6) Exit\n",
            "Choose an option (1-5): 2\n",
            "\n",
            "--- Grading Rule Checker ---\n",
            "Enter student grade: 89\n",
            "P = (F) (grade ≥ 75), Q = (T) (student passes)\n",
            "Result: Satisfied ✅\n",
            "\n",
            "================================\n",
            " Main Menu\n",
            "================================\n",
            "1) Attendance Rule Checker\n",
            "2) Grading Rule Checker\n",
            "3) Login Rule Checker\n",
            "4) Bonus Points Checker\n",
            "5) Library Borrowing Rule Checker\n",
            "6) Exit\n",
            "Choose an option (1-5): 2\n",
            "\n",
            "--- Grading Rule Checker ---\n",
            "Enter student grade: 60\n",
            "P = (T) (grade ≥ 75), Q = (F) (student passes)\n",
            "Result: Violated ❌\n",
            "\n",
            "================================\n",
            " Main Menu\n",
            "================================\n",
            "1) Attendance Rule Checker\n",
            "2) Grading Rule Checker\n",
            "3) Login Rule Checker\n",
            "4) Bonus Points Checker\n",
            "5) Library Borrowing Rule Checker\n",
            "6) Exit\n",
            "Choose an option (1-5): 6\n",
            "Exiting... Results saved to logic_results.csv\n"
          ]
        }
      ]
    }
  ],
  "metadata": {
    "colab": {
      "toc_visible": true,
      "provenance": [],
      "include_colab_link": true
    },
    "kernelspec": {
      "display_name": "Python 3",
      "name": "python3"
    }
  },
  "nbformat": 4,
  "nbformat_minor": 0
}